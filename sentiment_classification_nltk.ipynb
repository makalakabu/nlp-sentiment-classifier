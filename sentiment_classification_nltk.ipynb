{
  "cells": [
    {
      "cell_type": "markdown",
      "metadata": {
        "id": "f2S8I2ny-ovS"
      },
      "source": [
        "# NLE Assignment: Sentiment Classification\n",
        "\n",
        "In this assignment, you will be investigating NLP methods for distinguishing positive and negative reviews written about movies.\n",
        "\n",
        "For assessment, you are expected to complete and submit this notebook file.  When answers require code, you may import and use library functions (unless explicitly told otherwise).  All of your own code should be included in the notebook rather than imported from elsewhere.  Written answers should also be included in the notebook.  You should insert as many extra cells as you want and change the type between code and markdown as appropriate.\n",
        "\n",
        "In order to avoid misconduct, you should not talk about the assignment questions with your peers.  If you are not sure what a question is asking you to do or have any other questions, please ask me or one of the Teaching Assistants.\n",
        "\n",
        "Marking guidelines are provided as a separate document.\n",
        "\n",
        "The first few cells contain code to set-up the assignment and bring in some data.   In order to provide unique datasets for analysis by different students, you must enter your candidate number in the following cell.  Otherwise do not change the code in these cells."
      ]
    },
    {
      "cell_type": "code",
      "execution_count": 1,
      "metadata": {
        "id": "1gXQAZas-l9c"
      },
      "outputs": [],
      "source": [
        "candidateno=267937  #this MUST be updated to your candidate number so that you get a unique data sample\n"
      ]
    },
    {
      "cell_type": "code",
      "execution_count": 2,
      "metadata": {
        "id": "nk8JTP88A8vs",
        "colab": {
          "base_uri": "https://localhost:8080/"
        },
        "outputId": "0a584fbc-cfa9-47e3-dbcb-84d8ef39b5b1"
      },
      "outputs": [
        {
          "output_type": "stream",
          "name": "stderr",
          "text": [
            "[nltk_data] Downloading package punkt to /root/nltk_data...\n",
            "[nltk_data]   Unzipping tokenizers/punkt.zip.\n",
            "[nltk_data] Downloading package stopwords to /root/nltk_data...\n",
            "[nltk_data]   Unzipping corpora/stopwords.zip.\n",
            "[nltk_data] Downloading package movie_reviews to /root/nltk_data...\n",
            "[nltk_data]   Unzipping corpora/movie_reviews.zip.\n"
          ]
        }
      ],
      "source": [
        "#do not change the code in this cell\n",
        "#preliminary imports\n",
        "\n",
        "#set up nltk\n",
        "import nltk\n",
        "nltk.download('punkt')\n",
        "nltk.download('stopwords')\n",
        "nltk.download('movie_reviews')\n",
        "from nltk.corpus import stopwords\n",
        "from nltk.tokenize import word_tokenize\n",
        "from nltk.corpus import movie_reviews\n",
        "\n",
        "#for setting up training and testing data\n",
        "import random\n",
        "\n",
        "#useful other tools\n",
        "import re\n",
        "import pandas as pd\n",
        "import matplotlib.pyplot as plt\n",
        "%matplotlib inline\n",
        "from itertools import zip_longest\n",
        "from nltk.probability import FreqDist\n",
        "from nltk.classify.api import ClassifierI\n"
      ]
    },
    {
      "cell_type": "code",
      "execution_count": 3,
      "metadata": {
        "id": "BHBkzAccCVaZ"
      },
      "outputs": [],
      "source": [
        "#do not change the code in this cell\n",
        "def split_data(data, ratio=0.7): # when the second argument is not given, it defaults to 0.7\n",
        "    \"\"\"\n",
        "    Given corpus generator and ratio:\n",
        "     - partitions the corpus into training data and test data, where the proportion in train is ratio,\n",
        "\n",
        "    :param data: A corpus generator.\n",
        "    :param ratio: The proportion of training documents (default 0.7)\n",
        "    :return: a pair (tuple) of lists where the first element of the\n",
        "            pair is a list of the training data and the second is a list of the test data.\n",
        "    \"\"\"\n",
        "\n",
        "    data = list(data)\n",
        "    n = len(data)\n",
        "    train_indices = random.sample(range(n), int(n * ratio))\n",
        "    test_indices = list(set(range(n)) - set(train_indices))\n",
        "    train = [data[i] for i in train_indices]\n",
        "    test = [data[i] for i in test_indices]\n",
        "    return (train, test)\n",
        "\n",
        "\n",
        "def get_train_test_data():\n",
        "\n",
        "    #get ids of positive and negative movie reviews\n",
        "    pos_review_ids=movie_reviews.fileids('pos')\n",
        "    neg_review_ids=movie_reviews.fileids('neg')\n",
        "\n",
        "    #split positive and negative data into training and testing sets\n",
        "    pos_train_ids, pos_test_ids = split_data(pos_review_ids)\n",
        "    neg_train_ids, neg_test_ids = split_data(neg_review_ids)\n",
        "    #add labels to the data and concatenate\n",
        "    training = [(movie_reviews.words(f),'pos') for f in pos_train_ids]+[(movie_reviews.words(f),'neg') for f in neg_train_ids]\n",
        "    testing = [(movie_reviews.words(f),'pos') for f in pos_test_ids]+[(movie_reviews.words(f),'neg') for f in neg_test_ids]\n",
        "\n",
        "    return training, testing"
      ]
    },
    {
      "cell_type": "markdown",
      "metadata": {
        "id": "1N3LWwBYICPP"
      },
      "source": [
        "When you have run the cell below, your unique training and testing samples will be stored in `training_data` and `testing_data`"
      ]
    },
    {
      "cell_type": "code",
      "execution_count": 4,
      "metadata": {
        "id": "HJLegkdPFUJA",
        "colab": {
          "base_uri": "https://localhost:8080/"
        },
        "outputId": "2ea0ac19-6a70-4c91-a644-564132d9a224"
      },
      "outputs": [
        {
          "output_type": "stream",
          "name": "stdout",
          "text": [
            "The amount of training data is 1400\n",
            "The amount of testing data is 600\n",
            "The representation of a single data item is below\n",
            "(['in', 'the', 'grand', 'scheme', 'of', 'mel', 'gibson', ...], 'pos')\n"
          ]
        }
      ],
      "source": [
        "#do not change the code in this cell\n",
        "random.seed(candidateno)\n",
        "training_data,testing_data=get_train_test_data()\n",
        "print(\"The amount of training data is {}\".format(len(training_data)))\n",
        "print(\"The amount of testing data is {}\".format(len(testing_data)))\n",
        "print(\"The representation of a single data item is below\")\n",
        "print(training_data[0])"
      ]
    },
    {
      "cell_type": "markdown",
      "metadata": {
        "id": "RbTq6eGv2XT2"
      },
      "source": [
        "1)  \n",
        "a) **Generate** a list of 10 content words which are representative of the positive reviews in your training data.\n",
        "\n",
        "b) **Generate** a list of 10 content words which are representative of the negative reviews in your training data.\n",
        "\n",
        "c) **Explain** what you have done and why\n",
        "\n",
        "[20\\%]"
      ]
    },
    {
      "cell_type": "code",
      "execution_count": 5,
      "metadata": {
        "id": "gvFu36xZ2XT5",
        "colab": {
          "base_uri": "https://localhost:8080/"
        },
        "outputId": "f5dfa8c1-6661-47fa-cb67-878a27195cc7"
      },
      "outputs": [
        {
          "output_type": "execute_result",
          "data": {
            "text/plain": [
              "[(['meet', 'joe', 'black', 'is', 'your', 'classic', ...], 'pos'),\n",
              " (['if', 'there', \"'\", 's', 'one', 'thing', 'in', ...], 'pos'),\n",
              " (['star', 'wars', ':', 'episode', 'i', '-', 'the', ...], 'pos'),\n",
              " (['the', 'premise', 'is', 'simple', ',', 'if', 'not', ...], 'pos'),\n",
              " (['let', 'me', 'first', 'say', 'that', 'the', ...], 'pos'),\n",
              " (['before', 'you', 'read', 'my', 'review', ',', 'you', ...], 'pos'),\n",
              " (['it', 'must', 'be', 'tough', 'to', 'be', 'a', 'mob', ...], 'pos'),\n",
              " (['synopsis', ':', 'captain', 'picard', 'and', 'the', ...], 'pos'),\n",
              " (['in', 'chocolat', ',', 'a', 'chocolate', 'shop', ...], 'pos'),\n",
              " (['for', 'those', 'of', 'us', 'who', 'weren', \"'\", 't', ...], 'pos')]"
            ]
          },
          "metadata": {},
          "execution_count": 5
        }
      ],
      "source": [
        "#reusable function to get n label from training data\n",
        "def get_dataset(training, label, number):\n",
        "  random.seed(41)\n",
        "  dataset = []\n",
        "  i = 0\n",
        "  while len(dataset) < number:\n",
        "    i = random.randrange(len(training_data))\n",
        "    if training[i][1] == label:\n",
        "      dataset.append(training[i])\n",
        "\n",
        "  return dataset\n",
        "\n",
        "ten_pos_training = get_dataset(training_data, 'pos', 10)\n",
        "ten_pos_training"
      ]
    },
    {
      "cell_type": "code",
      "source": [
        "ten_neg_training = get_dataset(training_data, 'neg', 10)\n",
        "ten_neg_training"
      ],
      "metadata": {
        "colab": {
          "base_uri": "https://localhost:8080/"
        },
        "id": "cttkdHTz-Ki2",
        "outputId": "2b27df2d-70d9-480b-e330-e51305e4c6d8"
      },
      "execution_count": 6,
      "outputs": [
        {
          "output_type": "execute_result",
          "data": {
            "text/plain": [
              "[(['a', 'backdrop', 'of', 'new', 'year', \"'\", 's', 'eve', ...], 'neg'),\n",
              " (['here', 'i', 'sit', 'at', 'my', 'computer', 'about', ...], 'neg'),\n",
              " (['one', 'of', 'the', 'first', 'films', 'of', '1999', ...], 'neg'),\n",
              " (['another', 'formula', \"'\", 'feel', 'good', \"'\", ...], 'neg'),\n",
              " (['one', 'of', 'my', 'favorite', 'songs', 'by', 'the', ...], 'neg'),\n",
              " (['synopsis', ':', 'wealthy', 'cuban', 'landowner', ...], 'neg'),\n",
              " (['the', 'yet', '-', 'to', '-', 'be', '-', 'released', ...], 'neg'),\n",
              " (['toward', 'the', 'bottom', 'of', 'the', \"'\", '80s', ...], 'neg'),\n",
              " (['\"', 'tina', '!', '!', '!', 'fetch', 'me', 'the', ...], 'neg'),\n",
              " (['i', \"'\", 'll', 'bet', 'right', 'now', 'you', \"'\", ...], 'neg')]"
            ]
          },
          "metadata": {},
          "execution_count": 6
        }
      ]
    },
    {
      "cell_type": "markdown",
      "source": [
        "First I build a function that will take **training data**, the **label** of data(positive or negative review) and the **total number** that wil extracted from the training data as a **paremeter** to my funtion.\n",
        "Inside the function it will pick a random review in the training data and it will check wheter it is a positive or negative. If it is the data that the function want, then it will append to a list until the length of the list is the same as number parameter.\n",
        "\n",
        "because I build this function, all I need to do is calling the function and input the paramater of we want."
      ],
      "metadata": {
        "id": "q8UK9iLbuOTZ"
      }
    },
    {
      "cell_type": "markdown",
      "metadata": {
        "id": "TApOQE6vND20"
      },
      "source": [
        "2)\n",
        "a) **Use** the lists generated in Q1 to build a **word list classifier** which will classify reviews as being positive or negative.\n",
        "\n",
        "b) **Explain** what you have done.\n",
        "\n",
        "[12.5\\%]\n"
      ]
    },
    {
      "cell_type": "code",
      "execution_count": 7,
      "metadata": {
        "id": "BThDMrcmODJy"
      },
      "outputs": [],
      "source": [
        "#tokenization\n",
        "def norm(dataset):\n",
        "  STOP = stopwords.words('english')\n",
        "  normalize = []\n",
        "  for word in dataset:\n",
        "    if word.isalpha() and not word.isnumeric() and word not in STOP:\n",
        "      normalize.append(word)\n",
        "  return normalize\n",
        "\n",
        "#get the most frequent word in the classifier\n",
        "def differences(dataset1, dataset2):\n",
        "  common = (dataset1-dataset2).most_common()\n",
        "  return [word for (word,freq) in common if freq > 0]\n",
        "\n",
        "posFreq = [(FreqDist(norm(word)), label) for (word,label) in ten_pos_training]\n",
        "negFreq = [(FreqDist(norm(word)), label) for (word,label) in ten_neg_training]\n",
        "trainData = posFreq + negFreq\n",
        "\n",
        "class WordListClassifier(ClassifierI):\n",
        "\n",
        "   def __init__(self):\n",
        "        pass\n",
        "\n",
        "   #setting the wordlist for hand written worldlist\n",
        "   def setWordList(self, pos , neg):\n",
        "      self.pos = pos\n",
        "      self.neg = neg\n",
        "\n",
        "   def classifier(self, data):\n",
        "      score = 0\n",
        "\n",
        "      #score increment if it considered as positve and decrement if it considered as negative\n",
        "      for word,number in data.items():\n",
        "        if word in self.pos:\n",
        "          score += number\n",
        "        elif word in self.neg:\n",
        "          score -= number\n",
        "      return 'neg' if score < 0 else 'pos'\n",
        "\n",
        "   def classify_many(self, docs):\n",
        "    dataset = []\n",
        "    for doc in docs:\n",
        "      dataset.append(self.classifier(doc))\n",
        "    return dataset\n",
        "\n",
        "\n",
        "\n",
        "   def train(self, dataset):\n",
        "      posFreqDist = FreqDist()\n",
        "      negFreqDist = FreqDist()\n",
        "      for docs, label in dataset:\n",
        "        #divide the dataset based on label\n",
        "        if label == 'pos':\n",
        "          posFreqDist += docs\n",
        "        else:\n",
        "          negFreqDist += docs\n",
        "      #set the most frequent word\n",
        "      self.pos = differences(posFreqDist, negFreqDist)\n",
        "      self.neg = differences(negFreqDist, posFreqDist)\n",
        "\n",
        "\n",
        "\n",
        "my_wordList = WordListClassifier()\n",
        "my_wordList.train(trainData)"
      ]
    },
    {
      "cell_type": "markdown",
      "source": [
        "Before I start making my own Word Classifier, I need to **remove stop word**, **remove all number** and **remove Uppercase** of the **Training Data from Q1**. In order to do that, I build a function called *norm*. After all the data has been filtered, I put it on one list called *trainData*\n",
        "\n",
        "Next I build a class called *WordListClassifier* because I believe it would be more robust, efficient and reusable rather than building my word classifier in one function. The class have four method:\n",
        "\n",
        "1. *setWordList(pos,neg)*\n",
        "This is a setter method that will set the word list without training it. This is use for hand written word list\n",
        "\n",
        "2. *train(dataset)*\n",
        "this setter method will train the training data (in this case, trainData from q1) by seperating the negative and positive review and determining wheter the bag of word is a positve or negative\n",
        "\n",
        "3. *classifier(data)*\n",
        "this method will classify wheter the input data is a positve or negative review by incrementing the total score by one if there's a word in the positive 'bag of word' and decreasing by one if there's a word in the negative 'bag of word'. the review input will be considered positve if the total score is more than 0 and negative otherwise\n",
        "\n",
        "4. *classify_many(docs)*\n",
        "Originally, I only have 3 methods in this class, but I added this method for the next question. This method will allow classifying more than one testing data"
      ],
      "metadata": {
        "id": "YTcG08SOxKZf"
      }
    },
    {
      "cell_type": "markdown",
      "metadata": {
        "id": "C6vK5Vyz2XUF"
      },
      "source": []
    },
    {
      "cell_type": "markdown",
      "metadata": {
        "id": "YZdDO_Y92XUH"
      },
      "source": [
        "3)\n",
        "a) **Calculate** the accuracy, precision, recall and F1 score of your classifier.\n",
        "\n",
        "b) Is it reasonable to evaluate the classifier in terms of its accuracy?  **Explain** your answer and give a counter-example (a scenario where it would / would not be reasonable to evaluate the classifier in terms of its accuracy).\n",
        "\n",
        "[20\\%]"
      ]
    },
    {
      "cell_type": "code",
      "execution_count": 8,
      "metadata": {
        "id": "R_i80ceP2XUJ",
        "colab": {
          "base_uri": "https://localhost:8080/"
        },
        "outputId": "ad523868-030a-40ed-d5b3-d518410236e3"
      },
      "outputs": [
        {
          "output_type": "stream",
          "name": "stdout",
          "text": [
            "The precision is 0.5145784081954294\n",
            "The recall is 0.9328571428571428\n",
            "The f1 is 0.6632808532249873\n",
            "The accuracy is 0.5264285714285715\n",
            "\n",
            "The precision is 0.5634167385677308\n",
            "The recall is 0.9328571428571428\n",
            "The f1 is 0.7025282409897795\n",
            "The accuracy is 0.605\n"
          ]
        }
      ],
      "source": [
        "class Calculation:\n",
        "  def __init__(self, word, label):\n",
        "    self.word = word\n",
        "    self.label = label\n",
        "    self.tp= 0\n",
        "    self.fp= 0\n",
        "    self.fn= 0\n",
        "    self.tn = 0\n",
        "    self.score = 0\n",
        "    for prediction,goldstandart in zip(word, label):\n",
        "\n",
        "    # to calculate the accuracy we increment score\n",
        "      if prediction == goldstandart:\n",
        "        self.score += 1\n",
        "\n",
        "      # to calculate the f1, recall and precision we increment tp, fp, tn, fn\n",
        "      if goldstandart == 'pos':\n",
        "        if prediction == 'pos':\n",
        "          self.tp += 1\n",
        "        else:\n",
        "          self.fn += 1\n",
        "      elif prediction == 'pos':\n",
        "        self.fp += 1\n",
        "      else:\n",
        "        self.tn += 1\n",
        "\n",
        "  #making it def so it's easier to call\n",
        "  def precision(self):\n",
        "    return self.tp / ( self.tp + self.fp )\n",
        "\n",
        "  def recall(self):\n",
        "    return self.tp / ( self.tp + self.fn)\n",
        "\n",
        "  def f1(self):\n",
        "    return 2 * self.precision() * self.recall() /(self.precision() +self.recall())\n",
        "\n",
        "  def accuration(self):\n",
        "    return self.score / len(self.label)\n",
        "\n",
        "  def printing(self):\n",
        "    #to printin all\n",
        "    print('The precision is '+str(self.precision()))\n",
        "    print('The recall is '+str(self.recall()))\n",
        "    print('The f1 is '+str(self.f1()))\n",
        "    print('The accuracy is '+str(self.accuration()))\n",
        "\n",
        "\n",
        "#trained word list with only 20 dataset (10 neg and pos review from q1)\n",
        "testingData = [(FreqDist(norm(wordlist)),label) for (wordlist,label) in training_data]\n",
        "docs,labels=zip(*testingData)\n",
        "calculate = Calculation(my_wordList.classify_many(docs), labels)\n",
        "calculate.printing()\n",
        "\n",
        "print()\n",
        "\n",
        "#10 hand Written Word List for positive and negative bag of word (we don't need to train these data)\n",
        "pos_words = [\"good\",\"great\",\"lovely\", \"excellent\", \"enjoy\"]\n",
        "neg_words = [\"bad\", \"terrible\", \"awful\", \"dreadful\", \"unpleasent\"]\n",
        "handWritten_wordList = WordListClassifier()\n",
        "handWritten_wordList.setWordList(pos_words, neg_words)\n",
        "calculate2 = Calculation(handWritten_wordList.classify_many(docs), labels)\n",
        "calculate2.printing()"
      ]
    },
    {
      "cell_type": "markdown",
      "source": [
        "For this question, I build another class called *Calculation* that will calculate all **F1**, **recall** and **accuracy** of the word list and can be printed by just calling the method. With only** 20 reviews** in total from Q1, my word list classifier get an **accuracy just over 50%**, this happened because the **trained data is not that many**, making some bag of words are **bias** and making my word classifier **not that robust and accurate to determining the testing data.**\n",
        "\n",
        "Therefore, an **evaluation** of my word classifier **is needed** in terms of accuracy. For comparasion, I **build another classifier** that will not train the data because it is a \"**hand written\" word list**. I calculate the word list classifier and **suprisingly**, **it generate more precision, f1, and accuracy.**\n",
        "\n",
        "based on the data shown above, we can conclude that if we have only a** few train data**, it is** better** that we **pick our own bag of words** from the data rather than train the data."
      ],
      "metadata": {
        "id": "oLI9GMxQLdvS"
      }
    },
    {
      "cell_type": "markdown",
      "metadata": {
        "id": "AVZp0N5J2XUL"
      },
      "source": []
    },
    {
      "cell_type": "markdown",
      "metadata": {
        "id": "LIS9UpmJNEAp"
      },
      "source": [
        "4)\n",
        "a)  **Construct** a Naive Bayes classifier (e.g., from NLTK).\n",
        "\n",
        "b)  **Compare** the performance of your word list classifier with the Naive Bayes classifier.  **Discuss** your results.\n",
        "\n",
        "[12.5\\%]"
      ]
    },
    {
      "cell_type": "code",
      "execution_count": 9,
      "metadata": {
        "id": "Gwjig-Y12XUN",
        "colab": {
          "base_uri": "https://localhost:8080/",
          "height": 244
        },
        "outputId": "57734cca-cfaf-4b63-8a6f-1c868d35a412"
      },
      "outputs": [
        {
          "output_type": "stream",
          "name": "stdout",
          "text": [
            "The precision is 0.5824915824915825\n",
            "The recall is 0.7414285714285714\n",
            "The f1 is 0.6524198617221874\n",
            "The accuracy is 0.605\n"
          ]
        },
        {
          "output_type": "display_data",
          "data": {
            "text/plain": [
              "        Data  Naive Bayes Classifier  Word List Classifier\n",
              "0  Precision                0.582492              0.514578\n",
              "1         F1                0.652420              0.663281\n",
              "2     Recall                0.741429              0.932857\n",
              "3   Accuracy                0.605000              0.526429"
            ],
            "text/html": [
              "\n",
              "  <div id=\"df-9ff5b248-b98c-4608-89ff-114d913667c6\" class=\"colab-df-container\">\n",
              "    <div>\n",
              "<style scoped>\n",
              "    .dataframe tbody tr th:only-of-type {\n",
              "        vertical-align: middle;\n",
              "    }\n",
              "\n",
              "    .dataframe tbody tr th {\n",
              "        vertical-align: top;\n",
              "    }\n",
              "\n",
              "    .dataframe thead th {\n",
              "        text-align: right;\n",
              "    }\n",
              "</style>\n",
              "<table border=\"1\" class=\"dataframe\">\n",
              "  <thead>\n",
              "    <tr style=\"text-align: right;\">\n",
              "      <th></th>\n",
              "      <th>Data</th>\n",
              "      <th>Naive Bayes Classifier</th>\n",
              "      <th>Word List Classifier</th>\n",
              "    </tr>\n",
              "  </thead>\n",
              "  <tbody>\n",
              "    <tr>\n",
              "      <th>0</th>\n",
              "      <td>Precision</td>\n",
              "      <td>0.582492</td>\n",
              "      <td>0.514578</td>\n",
              "    </tr>\n",
              "    <tr>\n",
              "      <th>1</th>\n",
              "      <td>F1</td>\n",
              "      <td>0.652420</td>\n",
              "      <td>0.663281</td>\n",
              "    </tr>\n",
              "    <tr>\n",
              "      <th>2</th>\n",
              "      <td>Recall</td>\n",
              "      <td>0.741429</td>\n",
              "      <td>0.932857</td>\n",
              "    </tr>\n",
              "    <tr>\n",
              "      <th>3</th>\n",
              "      <td>Accuracy</td>\n",
              "      <td>0.605000</td>\n",
              "      <td>0.526429</td>\n",
              "    </tr>\n",
              "  </tbody>\n",
              "</table>\n",
              "</div>\n",
              "    <div class=\"colab-df-buttons\">\n",
              "\n",
              "  <div class=\"colab-df-container\">\n",
              "    <button class=\"colab-df-convert\" onclick=\"convertToInteractive('df-9ff5b248-b98c-4608-89ff-114d913667c6')\"\n",
              "            title=\"Convert this dataframe to an interactive table.\"\n",
              "            style=\"display:none;\">\n",
              "\n",
              "  <svg xmlns=\"http://www.w3.org/2000/svg\" height=\"24px\" viewBox=\"0 -960 960 960\">\n",
              "    <path d=\"M120-120v-720h720v720H120Zm60-500h600v-160H180v160Zm220 220h160v-160H400v160Zm0 220h160v-160H400v160ZM180-400h160v-160H180v160Zm440 0h160v-160H620v160ZM180-180h160v-160H180v160Zm440 0h160v-160H620v160Z\"/>\n",
              "  </svg>\n",
              "    </button>\n",
              "\n",
              "  <style>\n",
              "    .colab-df-container {\n",
              "      display:flex;\n",
              "      gap: 12px;\n",
              "    }\n",
              "\n",
              "    .colab-df-convert {\n",
              "      background-color: #E8F0FE;\n",
              "      border: none;\n",
              "      border-radius: 50%;\n",
              "      cursor: pointer;\n",
              "      display: none;\n",
              "      fill: #1967D2;\n",
              "      height: 32px;\n",
              "      padding: 0 0 0 0;\n",
              "      width: 32px;\n",
              "    }\n",
              "\n",
              "    .colab-df-convert:hover {\n",
              "      background-color: #E2EBFA;\n",
              "      box-shadow: 0px 1px 2px rgba(60, 64, 67, 0.3), 0px 1px 3px 1px rgba(60, 64, 67, 0.15);\n",
              "      fill: #174EA6;\n",
              "    }\n",
              "\n",
              "    .colab-df-buttons div {\n",
              "      margin-bottom: 4px;\n",
              "    }\n",
              "\n",
              "    [theme=dark] .colab-df-convert {\n",
              "      background-color: #3B4455;\n",
              "      fill: #D2E3FC;\n",
              "    }\n",
              "\n",
              "    [theme=dark] .colab-df-convert:hover {\n",
              "      background-color: #434B5C;\n",
              "      box-shadow: 0px 1px 3px 1px rgba(0, 0, 0, 0.15);\n",
              "      filter: drop-shadow(0px 1px 2px rgba(0, 0, 0, 0.3));\n",
              "      fill: #FFFFFF;\n",
              "    }\n",
              "  </style>\n",
              "\n",
              "    <script>\n",
              "      const buttonEl =\n",
              "        document.querySelector('#df-9ff5b248-b98c-4608-89ff-114d913667c6 button.colab-df-convert');\n",
              "      buttonEl.style.display =\n",
              "        google.colab.kernel.accessAllowed ? 'block' : 'none';\n",
              "\n",
              "      async function convertToInteractive(key) {\n",
              "        const element = document.querySelector('#df-9ff5b248-b98c-4608-89ff-114d913667c6');\n",
              "        const dataTable =\n",
              "          await google.colab.kernel.invokeFunction('convertToInteractive',\n",
              "                                                    [key], {});\n",
              "        if (!dataTable) return;\n",
              "\n",
              "        const docLinkHtml = 'Like what you see? Visit the ' +\n",
              "          '<a target=\"_blank\" href=https://colab.research.google.com/notebooks/data_table.ipynb>data table notebook</a>'\n",
              "          + ' to learn more about interactive tables.';\n",
              "        element.innerHTML = '';\n",
              "        dataTable['output_type'] = 'display_data';\n",
              "        await google.colab.output.renderOutput(dataTable, element);\n",
              "        const docLink = document.createElement('div');\n",
              "        docLink.innerHTML = docLinkHtml;\n",
              "        element.appendChild(docLink);\n",
              "      }\n",
              "    </script>\n",
              "  </div>\n",
              "\n",
              "\n",
              "<div id=\"df-806dc6dd-66d0-4555-bc76-099e556fa9d9\">\n",
              "  <button class=\"colab-df-quickchart\" onclick=\"quickchart('df-806dc6dd-66d0-4555-bc76-099e556fa9d9')\"\n",
              "            title=\"Suggest charts\"\n",
              "            style=\"display:none;\">\n",
              "\n",
              "<svg xmlns=\"http://www.w3.org/2000/svg\" height=\"24px\"viewBox=\"0 0 24 24\"\n",
              "     width=\"24px\">\n",
              "    <g>\n",
              "        <path d=\"M19 3H5c-1.1 0-2 .9-2 2v14c0 1.1.9 2 2 2h14c1.1 0 2-.9 2-2V5c0-1.1-.9-2-2-2zM9 17H7v-7h2v7zm4 0h-2V7h2v10zm4 0h-2v-4h2v4z\"/>\n",
              "    </g>\n",
              "</svg>\n",
              "  </button>\n",
              "\n",
              "<style>\n",
              "  .colab-df-quickchart {\n",
              "      --bg-color: #E8F0FE;\n",
              "      --fill-color: #1967D2;\n",
              "      --hover-bg-color: #E2EBFA;\n",
              "      --hover-fill-color: #174EA6;\n",
              "      --disabled-fill-color: #AAA;\n",
              "      --disabled-bg-color: #DDD;\n",
              "  }\n",
              "\n",
              "  [theme=dark] .colab-df-quickchart {\n",
              "      --bg-color: #3B4455;\n",
              "      --fill-color: #D2E3FC;\n",
              "      --hover-bg-color: #434B5C;\n",
              "      --hover-fill-color: #FFFFFF;\n",
              "      --disabled-bg-color: #3B4455;\n",
              "      --disabled-fill-color: #666;\n",
              "  }\n",
              "\n",
              "  .colab-df-quickchart {\n",
              "    background-color: var(--bg-color);\n",
              "    border: none;\n",
              "    border-radius: 50%;\n",
              "    cursor: pointer;\n",
              "    display: none;\n",
              "    fill: var(--fill-color);\n",
              "    height: 32px;\n",
              "    padding: 0;\n",
              "    width: 32px;\n",
              "  }\n",
              "\n",
              "  .colab-df-quickchart:hover {\n",
              "    background-color: var(--hover-bg-color);\n",
              "    box-shadow: 0 1px 2px rgba(60, 64, 67, 0.3), 0 1px 3px 1px rgba(60, 64, 67, 0.15);\n",
              "    fill: var(--button-hover-fill-color);\n",
              "  }\n",
              "\n",
              "  .colab-df-quickchart-complete:disabled,\n",
              "  .colab-df-quickchart-complete:disabled:hover {\n",
              "    background-color: var(--disabled-bg-color);\n",
              "    fill: var(--disabled-fill-color);\n",
              "    box-shadow: none;\n",
              "  }\n",
              "\n",
              "  .colab-df-spinner {\n",
              "    border: 2px solid var(--fill-color);\n",
              "    border-color: transparent;\n",
              "    border-bottom-color: var(--fill-color);\n",
              "    animation:\n",
              "      spin 1s steps(1) infinite;\n",
              "  }\n",
              "\n",
              "  @keyframes spin {\n",
              "    0% {\n",
              "      border-color: transparent;\n",
              "      border-bottom-color: var(--fill-color);\n",
              "      border-left-color: var(--fill-color);\n",
              "    }\n",
              "    20% {\n",
              "      border-color: transparent;\n",
              "      border-left-color: var(--fill-color);\n",
              "      border-top-color: var(--fill-color);\n",
              "    }\n",
              "    30% {\n",
              "      border-color: transparent;\n",
              "      border-left-color: var(--fill-color);\n",
              "      border-top-color: var(--fill-color);\n",
              "      border-right-color: var(--fill-color);\n",
              "    }\n",
              "    40% {\n",
              "      border-color: transparent;\n",
              "      border-right-color: var(--fill-color);\n",
              "      border-top-color: var(--fill-color);\n",
              "    }\n",
              "    60% {\n",
              "      border-color: transparent;\n",
              "      border-right-color: var(--fill-color);\n",
              "    }\n",
              "    80% {\n",
              "      border-color: transparent;\n",
              "      border-right-color: var(--fill-color);\n",
              "      border-bottom-color: var(--fill-color);\n",
              "    }\n",
              "    90% {\n",
              "      border-color: transparent;\n",
              "      border-bottom-color: var(--fill-color);\n",
              "    }\n",
              "  }\n",
              "</style>\n",
              "\n",
              "  <script>\n",
              "    async function quickchart(key) {\n",
              "      const quickchartButtonEl =\n",
              "        document.querySelector('#' + key + ' button');\n",
              "      quickchartButtonEl.disabled = true;  // To prevent multiple clicks.\n",
              "      quickchartButtonEl.classList.add('colab-df-spinner');\n",
              "      try {\n",
              "        const charts = await google.colab.kernel.invokeFunction(\n",
              "            'suggestCharts', [key], {});\n",
              "      } catch (error) {\n",
              "        console.error('Error during call to suggestCharts:', error);\n",
              "      }\n",
              "      quickchartButtonEl.classList.remove('colab-df-spinner');\n",
              "      quickchartButtonEl.classList.add('colab-df-quickchart-complete');\n",
              "    }\n",
              "    (() => {\n",
              "      let quickchartButtonEl =\n",
              "        document.querySelector('#df-806dc6dd-66d0-4555-bc76-099e556fa9d9 button');\n",
              "      quickchartButtonEl.style.display =\n",
              "        google.colab.kernel.accessAllowed ? 'block' : 'none';\n",
              "    })();\n",
              "  </script>\n",
              "</div>\n",
              "    </div>\n",
              "  </div>\n"
            ]
          },
          "metadata": {}
        }
      ],
      "source": [
        "from nltk.classify import NaiveBayesClassifier\n",
        "\n",
        "#get naive bayes classifier from nltk and train the data\n",
        "naiveBayes = NaiveBayesClassifier.train(trainData)\n",
        "doc,label=zip(*testingData)\n",
        "\n",
        "#using the class form Q3\n",
        "calculate3 = Calculation(naiveBayes.classify_many(docs), label)\n",
        "calculate3.printing()\n",
        "\n",
        "#Using pandas to show the differences\n",
        "dataFrame = {\"Data\": [\"Precision\", \"F1\", \"Recall\", \"Accuracy\"],\n",
        "             \"Naive Bayes Classifier\": [calculate3.precision(), calculate3.f1(), calculate3.recall(), calculate3.accuration()],\n",
        "             \"Word List Classifier\": [calculate.precision(), calculate.f1(), calculate.recall(), calculate.accuration()]}\n",
        "display(pd.DataFrame(dataFrame))"
      ]
    },
    {
      "cell_type": "markdown",
      "source": [
        "From the table graph above, we can say thay Naive Bayes Classifier are better in terms of accuracy eventhough both Naive and Word classifier have only ten data training. This happened because Naive Bayes have different approaches when training and classifying the data. Naive Bayes use probability and likelyhood making Naive have more accuracy with only a handful of data training."
      ],
      "metadata": {
        "id": "UJx7qsTuTCF3"
      }
    },
    {
      "cell_type": "markdown",
      "metadata": {
        "id": "LGDXaVDqOSfY"
      },
      "source": [
        "5)\n",
        "a) Design and **carry out an experiment** into the impact of the **length of the wordlists** on the wordlist classifier.  Make sure you **describe** design decisions in your experiment, include a **graph** of your results and **discuss** your conclusions.\n",
        "\n",
        "b) Would you **recommend** a wordlist classifier or a Naive Bayes classifier for future work in this area?  **Justify** your answer.\n",
        "\n",
        "[25\\%]\n"
      ]
    },
    {
      "cell_type": "markdown",
      "metadata": {
        "id": "UlxoUthX2XUP"
      },
      "source": []
    },
    {
      "cell_type": "code",
      "execution_count": 10,
      "metadata": {
        "id": "xFeOWIRm2XUQ",
        "colab": {
          "base_uri": "https://localhost:8080/",
          "height": 472
        },
        "outputId": "1a6c226f-bcfd-4ff0-92c3-f0cc3b3d66b9"
      },
      "outputs": [
        {
          "output_type": "display_data",
          "data": {
            "text/plain": [
              "<Figure size 640x480 with 1 Axes>"
            ],
            "image/png": "[encoded data removed]"
          },
          "metadata": {}
        }
      ],
      "source": [
        "length_wordlist = [10, 50, 100, 300, 500, 700]\n",
        "precision = []\n",
        "recall = []\n",
        "f1 = []\n",
        "accuracy = []\n",
        "\n",
        "for number in length_wordlist:\n",
        "  #get the training data by calling a function from Q1\n",
        "  pos_training = [(FreqDist(norm(word)), label) for (word,label) in get_dataset(training_data, 'pos', number)]\n",
        "  neg_training = [(FreqDist(norm(word)), label) for (word,label) in get_dataset(training_data, 'neg', number)]\n",
        "  dataSet = pos_training + neg_training\n",
        "\n",
        "  #train the data set\n",
        "  theClassifier = WordListClassifier()\n",
        "  theClassifier.train(dataSet)\n",
        "\n",
        "  #calculate and extract the precision, recall, f1 and accuracy for the graph\n",
        "  calculation4 = Calculation(theClassifier.classify_many(docs), labels)\n",
        "  precision.append(calculation4.precision())\n",
        "  f1.append(calculation4.f1())\n",
        "  recall.append(calculation4.recall())\n",
        "  accuracy.append(calculation4.accuration())\n",
        "\n",
        "#making the line graph using pandas\n",
        "data = {'Precision' :precision,\n",
        "        'Recall':recall,\n",
        "        'F1':f1,\n",
        "        'Accuracy': accuracy,\n",
        "        'Number':length_wordlist}\n",
        "df = pd.DataFrame(data)\n",
        "\n",
        "#Accuracy Graph\n",
        "plt.plot(df['Number'], df['Accuracy'], linestyle='-', label='Accuracy')\n",
        "\n",
        "plt.xlabel('Sample Size')\n",
        "plt.ylabel('Accuracy')\n",
        "plt.title('Word List Classifier')\n",
        "plt.show()\n"
      ]
    },
    {
      "cell_type": "code",
      "execution_count": 11,
      "metadata": {
        "id": "VT82P88M2XUQ",
        "colab": {
          "base_uri": "https://localhost:8080/",
          "height": 489
        },
        "outputId": "b8db4fe4-56c3-4561-b0c1-fc8a0163888c"
      },
      "outputs": [
        {
          "output_type": "execute_result",
          "data": {
            "text/plain": [
              "<matplotlib.legend.Legend at 0x7cfce2e2fa90>"
            ]
          },
          "metadata": {},
          "execution_count": 11
        },
        {
          "output_type": "display_data",
          "data": {
            "text/plain": [
              "<Figure size 640x480 with 1 Axes>"
            ],
            "image/png": "[encoded data removed]"
          },
          "metadata": {}
        }
      ],
      "source": [
        "#Accuracy and Others\n",
        "plt.plot(df['Number'], df['Accuracy'], linestyle='-', label='Accuracy')\n",
        "plt.plot(df['Number'], df['Precision'], linestyle='-', label='Precision')\n",
        "plt.plot(df['Number'], df['Recall'], linestyle='-', label='Recall')\n",
        "plt.plot(df['Number'], df['F1'], linestyle='-', label='F1')\n",
        "\n",
        "plt.xlabel('Sample Size')\n",
        "plt.ylabel('Percentage')\n",
        "plt.title('Word List Classifier')\n",
        "plt.legend()\n"
      ]
    },
    {
      "cell_type": "markdown",
      "metadata": {
        "id": "Ym-TGvYS2XUR"
      },
      "source": [
        "For this experiment, I decided to set the length of the wordlist to **six parties** which is **10, 50, 100, 300, 500, 700**. After I trained the training data and classify the testing data from each parties, I can conclude that the **more the length** of the word list, **the better** for the classifier. With 700 trained data, my Wordlist Classifier become more **robust**, **precise** and have **better accuration**. Eventhough it will take **more time** in computation because the classifier have to train all of the 700 data, I would believe that it is the **best approach** for the classifier because it is more **optimal** and **adaptable**.\n",
        "\n",
        "\n",
        "\n",
        "**NAIVE BAYES CLASSIFIER VS WORDLIST CLASSIFIER**\n",
        "\n",
        "When we talk about binary classification, there are many approach for determining the best classifier.The different with those two classifier are Naive Bayes using probability and likelyhood for each word in training data and my Word list using most frequent word when training the data. In this case, my Word List Classifier are more simple, easy to intrepret and more transparant, however it requiers a lot of data size in order to have maximum classifier. Unlike Word List, Bayes classifier only need a handful of data size and it can be improved by expanding the size data. With this assignment I could say that both wordlist classifiers and Naive Bayes classifiers can be effective for binary classification tasks. However, in the future work, If there's only a few data size, I would recommend using Naive Bayes Classifier since it generate more accuracy based on Q4. But if you're looking for simplicity and adaptable, I would recommend using my word list because in my wordlist classifier, there's an option to straightforwardly set the \"bag of word\" as our wordlist without the need of training it (hand written wordlist)."
      ]
    },
    {
      "cell_type": "code",
      "execution_count": 12,
      "metadata": {
        "id": "34rdlS_iPov6",
        "colab": {
          "base_uri": "https://localhost:8080/"
        },
        "outputId": "1bbd583a-4b2b-4136-fe9d-84439cd94267"
      },
      "outputs": [
        {
          "output_type": "stream",
          "name": "stderr",
          "text": [
            "<ipython-input-12-4e7ec440cfa2>:4: DeprecationWarning: nbformat.current is deprecated since before nbformat 3.0\n",
            "\n",
            "- use nbformat for read/write/validate public API\n",
            "- use nbformat.vX directly to composing notebooks of a particular version\n",
            "\n",
            "  from nbformat import current\n"
          ]
        },
        {
          "output_type": "stream",
          "name": "stdout",
          "text": [
            "Mounted at /content/drive\n",
            "Submission length is 853\n"
          ]
        }
      ],
      "source": [
        "##This code will word count all of the markdown cells in the notebook saved at filepath\n",
        "\n",
        "import io\n",
        "from nbformat import current\n",
        "\n",
        "from google.colab import drive\n",
        "drive.mount('/content/drive')\n",
        "\n",
        "filepath=\"/content/drive/MyDrive/Colab Notebooks/NLEassignment2023.ipynb\"\n",
        "question_count=432\n",
        "\n",
        "with io.open(filepath, 'r', encoding='utf-8') as f:\n",
        "    nb = current.read(f, 'json')\n",
        "\n",
        "word_count = 0\n",
        "for cell in nb.worksheets[0].cells:\n",
        "    if cell.cell_type == \"markdown\":\n",
        "        word_count += len(cell['source'].replace('#', '').lstrip().split(' '))\n",
        "print(\"Submission length is {}\".format(word_count-question_count))"
      ]
    }
  ],
  "metadata": {
    "colab": {
      "provenance": []
    },
    "kernelspec": {
      "display_name": "Python 3",
      "language": "python",
      "name": "python3"
    },
    "language_info": {
      "codemirror_mode": {
        "name": "ipython",
        "version": 3
      },
      "file_extension": ".py",
      "mimetype": "text/x-python",
      "name": "python",
      "nbconvert_exporter": "python",
      "pygments_lexer": "ipython3",
      "version": "3.7.4"
    }
  },
  "nbformat": 4,
  "nbformat_minor": 0
}